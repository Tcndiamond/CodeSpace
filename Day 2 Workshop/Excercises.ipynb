{
 "cells": [
  {
   "cell_type": "markdown",
   "id": "d1e3fbd3",
   "metadata": {},
   "source": [
    "# Day 2 Excercises"
   ]
  },
  {
   "cell_type": "markdown",
   "id": "8f8dd568",
   "metadata": {},
   "source": [
    "\n",
    "## 1. List Organizer\n",
    "\n",
    "**Description:**  \n",
    "The user creates a list of 3 favorite hobbies. They then add a new hobby, remove one, and display the final sorted list.\n",
    "\n",
    "**Skills Applied:**  \n",
    "List creation, list methods (`append`, `remove`, `sort`), and print formatting.\n",
    "\n",
    "**Example Output:**\n",
    "```\n",
    "Enter three hobbies: reading, gaming, drawing\n",
    "Enter one more hobby: coding\n",
    "Which hobby do you want to remove? gaming\n",
    "\n",
    "Your final list of hobbies:\n",
    "['coding', 'drawing', 'reading']\n",
    "```"
   ]
  },
  {
   "cell_type": "markdown",
   "id": "40e990af",
   "metadata": {},
   "source": [
    "---"
   ]
  },
  {
   "cell_type": "markdown",
   "id": "9a9fb04a",
   "metadata": {},
   "source": [
    "\n",
    "\n",
    "## 2. Tuple & Set Practice\n",
    "\n",
    "**Description:**  \n",
    "Create a tuple with your birth day, month, and year. Then create a set of favorite colors, some repeated, and display the unique ones.\n",
    "\n",
    "**Skills Applied:**  \n",
    "Tuple creation, indexing, set uniqueness, and basic printing.\n",
    "\n",
    "**Example Output:**\n",
    "```\n",
    "Your birthdate tuple: (25, 6, 2003)\n",
    "Enter favorite colors: blue, green, red, blue, red\n",
    "Unique colors: {'green', 'blue', 'red'}\n",
    "```"
   ]
  },
  {
   "cell_type": "markdown",
   "id": "1ab2ccd0",
   "metadata": {},
   "source": [
    "---"
   ]
  },
  {
   "cell_type": "markdown",
   "id": "9efd4f45",
   "metadata": {},
   "source": [
    "\n",
    "\n",
    "## 3. Student Mark Lookup\n",
    "\n",
    "**Description:**  \n",
    "Stores three student names with marks in a dictionary. The user enters a name, and the program displays their mark or a message if not found.\n",
    "\n",
    "**Skills Applied:**  \n",
    "Dictionaries, key lookup, conditional checking.\n",
    "\n",
    "**Example Output:**\n",
    "```\n",
    "Enter a student name to look up their mark: Zinhle\n",
    "Zinhle scored 78%.\n",
    "\n",
    "Enter a student name to look up their mark: Peter\n",
    "Student not found.\n",
    "```\n",
    "\n"
   ]
  },
  {
   "cell_type": "markdown",
   "id": "abbff7e9",
   "metadata": {},
   "source": [
    "---"
   ]
  },
  {
   "cell_type": "markdown",
   "id": "58483729",
   "metadata": {},
   "source": [
    "\n",
    "\n",
    "## 4. Even and Countdown Printer\n",
    "\n",
    "**Description:**  \n",
    "Print all even numbers from 1 to 20 using a `for` loop. Then print a countdown from 5 to 1 using a `while` loop.\n",
    "\n",
    "**Skills Applied:**  \n",
    "`for` loop, `while` loop, conditional logic, range usage.\n",
    "\n",
    "**Example Output:**\n",
    "```\n",
    "Even numbers: 2 4 6 8 10 12 14 16 18 20\n",
    "Countdown: 5 4 3 2 1\n",
    "```\n",
    "\n"
   ]
  },
  {
   "cell_type": "markdown",
   "metadata": {},
   "source": [
    "---"
   ]
  },
  {
   "cell_type": "markdown",
   "id": "4fd2116f",
   "metadata": {},
   "source": [
    "\n",
    "\n",
    "## 5. Custom Greeting Function\n",
    "\n",
    "**Description:**  \n",
    "Defines a function called `greet_user(name)` that prints a greeting. The user enters their name, and the function is called twice.\n",
    "\n",
    "**Skills Applied:**  \n",
    "Function definition, parameters, and calling.\n",
    "\n",
    "**Example Output:**\n",
    "```\n",
    "Enter your name: Conquerant\n",
    "Hello, Conquerant!\n",
    "Hello, Conquerant!\n",
    "```\n",
    "\n",
    "\n",
    "\n",
    "\n",
    "\n",
    "\n",
    "\n"
   ]
  },
  {
   "cell_type": "markdown",
   "id": "10464e2c",
   "metadata": {},
   "source": [
    "---"
   ]
  },
  {
   "cell_type": "markdown",
   "id": "c7193503",
   "metadata": {},
   "source": [
    "## 6. Shopping Cart Manager\n",
    "\n",
    "**Description:**  \n",
    "The user adds 3 items to a shopping cart (list). After all items are entered, the full cart is displayed in title case and in alphabetical order.\n",
    "\n",
    "**Skills Applied:**  \n",
    "Lists, string methods, user input, and list sorting.\n",
    "\n",
    "**Example Output:**\n",
    "```\n",
    "Enter item 1: bread\n",
    "Enter item 2: milk\n",
    "Enter item 3: eggs\n",
    "\n",
    "Final cart:\n",
    "['Bread', 'Eggs', 'Milk']\n",
    "```"
   ]
  },
  {
   "cell_type": "markdown",
   "id": "ef6e1302",
   "metadata": {},
   "source": [
    "---"
   ]
  },
  {
   "cell_type": "markdown",
   "id": "65b48f06",
   "metadata": {},
   "source": [
    "## 7. Contact Book Search\n",
    "\n",
    "**Description:**  \n",
    "A contact dictionary is created with names and phone numbers. The user enters a name, and the number is shown if found. If not, an error message is displayed using `try`-`except`.\n",
    "\n",
    "**Skills Applied:**  \n",
    "Dictionaries, user input, exception handling, and formatted output.\n",
    "\n",
    "**Example Output:**\n",
    "```\n",
    "Enter a name: Nomsa\n",
    "Nomsa's number is: 0834567890\n",
    "\n",
    "Enter a name: Dineo\n",
    "Contact not found.\n",
    "```"
   ]
  },
  {
   "cell_type": "markdown",
   "id": "1ea110b8",
   "metadata": {},
   "source": [
    "---"
   ]
  },
  {
   "cell_type": "markdown",
   "id": "fc971ba1",
   "metadata": {},
   "source": [
    "## 8. BMI Classifier Function\n",
    "\n",
    "**Description:**  \n",
    "The user enters their weight (kg) and height (m). A function calculates BMI and classifies it as Underweight, Normal, or Overweight.\n",
    "\n",
    "**Skills Applied:**  \n",
    "Function definition, math operations, conditionals, formatted output.\n",
    "\n",
    "**Example Output:**\n",
    "```\n",
    "Enter your weight (kg): 68\n",
    "Enter your height (m): 1.65\n",
    "Your BMI is 24.98 — Normal weight."
   ]
  },
  {
   "cell_type": "markdown",
   "id": "601dfa5a",
   "metadata": {},
   "source": [
    "---"
   ]
  },
  {
   "cell_type": "markdown",
   "id": "5fd17c97",
   "metadata": {},
   "source": [
    "\n",
    "## 9. Valid Integer Checker\n",
    "\n",
    "**Description:**  \n",
    "The program repeatedly asks the user to enter a valid integer. It uses `try`-`except` to catch errors until the user enters a valid number. Then it prints the square of that number.\n",
    "\n",
    "**Skills Applied:**  \n",
    "Loops, error handling, type casting, and math operations.\n",
    "\n",
    "**Example Output:**\n",
    "```\n",
    "Enter a number: hello\n",
    "That’s not a number. Try again.\n",
    "Enter a number: 4\n",
    "Square of 4 is 16"
   ]
  },
  {
   "cell_type": "markdown",
   "id": "8030ba37",
   "metadata": {},
   "source": [
    "---"
   ]
  },
  {
   "cell_type": "markdown",
   "id": "59ccaad9",
   "metadata": {},
   "source": [
    "## 10. Student Report Generator\n",
    "\n",
    "**Description:**  \n",
    "The user inputs 3 students and their marks. The program stores the data in a dictionary and then prints a clean report with their names and scores.\n",
    "\n",
    "**Skills Applied:**  \n",
    "Dictionaries, loops, input handling, and formatted output.\n",
    "\n",
    "**Example Output:**\n",
    "```\n",
    "Enter name and mark for 3 students:\n",
    "Name: Lerato, Mark: 85\n",
    "Name: Musa, Mark: 78\n",
    "Name: Blessing, Mark: 92\n",
    "\n",
    "--- Student Report ---\n",
    "Lerato - 85%\n",
    "Musa - 78%\n",
    "Blessing - 92%"
   ]
  }
 ],
 "metadata": {
  "language_info": {
   "name": "python"
  }
 },
 "nbformat": 4,
 "nbformat_minor": 5
}
