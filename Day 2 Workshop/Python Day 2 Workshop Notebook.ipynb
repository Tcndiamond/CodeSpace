{
 "cells": [
  {
   "cell_type": "markdown",
   "id": "4ff2d398",
   "metadata": {},
   "source": [
    "## Collection Types  \n",
    "Lists = [],  \n",
    "Tuples = (),  \n",
    "Sets = {},  \n",
    "Dictionary = {:}  \n",
    "\n",
    "The above data structures fall under these categories:  \n",
    "Ordered  \n",
    "Unordered  \n",
    "Changeable  \n",
    "Unchangeable  "
   ]
  },
  {
   "cell_type": "markdown",
   "id": "df53a977",
   "metadata": {},
   "source": [
    "<u>Casting Data Types</u>  \n",
    "For List = list(),  \n",
    "For Tuples = tuple(),  \n",
    "For Sets = Set(),  \n",
    "For Dictionary = dict()  \n"
   ]
  },
  {
   "cell_type": "markdown",
   "id": "5466d027",
   "metadata": {},
   "source": [
    "Lesson 1: Lists"
   ]
  },
  {
   "cell_type": "code",
   "execution_count": null,
   "id": "7b11e5b7",
   "metadata": {},
   "outputs": [],
   "source": [
    "#ordered and changeable\n",
    "#The square brackets [] indicate a list\n",
    "list = []\n",
    "\n",
    "list_fruits = [\"apple\", \"banana\", \"cherry\"]\n",
    "list_numbers = [1, 2, 3, 4, 5]\n",
    "list_boolean = [True, False, True]\n",
    "list_mixed = [\"apple\", 1, True, 3.14]\n",
    "\n",
    "print(list_fruits)\n",
    "print(list_numbers)\n",
    "print(list_boolean)\n",
    "print(list_mixed)\n",
    "\n",
    "print(\"\\n\")\n",
    "\n",
    "#how to change your value in a list\n",
    "list_fruits[0] = \"orange\"\n",
    "print(list_fruits)\n",
    "\n",
    "#how to add a value in a list\n",
    "#appending adds the data to the end of the list\n",
    "list_fruits.append(\"kiwi\")\n",
    "print(list_fruits)\n",
    "\n",
    "#inserting adds the data to a specific index in the list\n",
    "list_fruits.insert(1, \"grape\")\n",
    "print(list_fruits)\n",
    "\n",
    "#removing a value in a list\n",
    "#removing by value\n",
    "list_fruits.remove(\"banana\")\n",
    "print(list_fruits)\n",
    "\n",
    "#removing by index\n",
    "list_fruits.pop(0)\n",
    "print(list_fruits)\n",
    "\n",
    "#sorting the list\n",
    "list_fruits.sort()\n",
    "print(list_fruits)"
   ]
  },
  {
   "cell_type": "markdown",
   "id": "47032a6f",
   "metadata": {},
   "source": [
    "Lesson 3: Tuples and Sets"
   ]
  },
  {
   "cell_type": "code",
   "execution_count": null,
   "metadata": {},
   "outputs": [],
   "source": [
    "#Tuples are ordered and unchangeable\n",
    "#The parentheses () indicate a tuple\n",
    "\n",
    "my_tuple = ('apple', 'banana', 'cherry')\n",
    "my_list = list(my_tuple)\n",
    "\n",
    "my_list.append('orange')\n",
    "\n",
    "my_tuple = tuple(my_list)\n",
    "\n",
    "print(my_tuple)\n",
    "\n",
    "#Sets\n",
    "#Sets are unordered and unchangeable collections of data types\n",
    "#Duplicates are not allowed in sets\n",
    "set_fruits = {'apple', 'banana', 'cherry', 'orange', 'kiwi', 'orange'}\n",
    "print(set_fruits)"
   ]
  },
  {
   "cell_type": "markdown",
   "id": "9ad0c1f7",
   "metadata": {},
   "source": [
    "Lesson 4: Dictionaries"
   ]
  },
  {
   "cell_type": "code",
   "execution_count": null,
   "metadata": {},
   "outputs": [],
   "source": [
    "#Dictionaries are ordered and changeable collections of data types and do not allow duplicates\n",
    "#Dictionaries are written with curly brackets {}\n",
    "#Dictionaries have keys and values\n",
    "\n",
    "student ={\n",
    "    \"name\" :\"John\",\n",
    "    \"age\" : 20,\n",
    "    \"major\" : ['Computer Science', \"Software Engineering\"],\n",
    "}\n",
    "\n",
    "print(student)\n",
    "print('\\n')\n",
    "\n",
    "#Accessing the values in a dictionary\n",
    "print(student[\"major\"])\n",
    "print(\"\\n\")\n",
    "\n",
    "#Changing the value of a key in a dictionary\n",
    "student[\"age\"] = 21\n",
    "print(student)\n",
    "print(\"\\n\")\n",
    "\n",
    "#Adding a new key-value pair to the dictionary\n",
    "student[\"GPA\"] = 3.8\n",
    "student[\"email\"] = \"john.doe@gmaill.com\"\n",
    "print(student)\n",
    "print(\"\\n\")\n",
    "\n",
    "#Removing data from a dictionary\n",
    "#Removing by key\n",
    "student.pop(\"major\")\n",
    "print(student)\n",
    "print(\"\\n\")\n",
    "\n",
    "#Removing the recent key-value pair\n",
    "student.popitem()\n",
    "print(student)\n",
    "print(\"\\n\")\n",
    "\n",
    "#clearing the data\n",
    "student.clear()\n",
    "print(student)\n",
    "print(\"\\n\")"
   ]
  },
  {
   "cell_type": "code",
   "execution_count": null,
   "metadata": {},
   "outputs": [
    {
     "name": "stdout",
     "output_type": "stream",
     "text": [
      "John\n"
     ]
    }
   ],
   "source": []
  },
  {
   "cell_type": "code",
   "execution_count": null,
   "metadata": {},
   "outputs": [],
   "source": []
  },
  {
   "cell_type": "code",
   "execution_count": null,
   "metadata": {},
   "outputs": [],
   "source": []
  },
  {
   "cell_type": "code",
   "execution_count": null,
   "metadata": {},
   "outputs": [],
   "source": []
  },
  {
   "cell_type": "code",
   "execution_count": null,
   "metadata": {},
   "outputs": [],
   "source": []
  },
  {
   "cell_type": "code",
   "execution_count": null,
   "metadata": {},
   "outputs": [],
   "source": []
  },
  {
   "cell_type": "code",
   "execution_count": null,
   "metadata": {},
   "outputs": [],
   "source": []
  },
  {
   "cell_type": "code",
   "execution_count": null,
   "metadata": {},
   "outputs": [],
   "source": []
  },
  {
   "cell_type": "code",
   "execution_count": null,
   "metadata": {},
   "outputs": [],
   "source": []
  },
  {
   "cell_type": "code",
   "execution_count": null,
   "metadata": {},
   "outputs": [],
   "source": []
  },
  {
   "cell_type": "code",
   "execution_count": null,
   "metadata": {},
   "outputs": [],
   "source": []
  },
  {
   "cell_type": "code",
   "execution_count": null,
   "metadata": {},
   "outputs": [],
   "source": []
  },
  {
   "cell_type": "code",
   "execution_count": null,
   "metadata": {},
   "outputs": [],
   "source": []
  },
  {
   "cell_type": "code",
   "execution_count": null,
   "metadata": {},
   "outputs": [],
   "source": []
  },
  {
   "cell_type": "code",
   "execution_count": null,
   "metadata": {},
   "outputs": [],
   "source": []
  },
  {
   "cell_type": "code",
   "execution_count": null,
   "metadata": {},
   "outputs": [],
   "source": []
  },
  {
   "cell_type": "code",
   "execution_count": null,
   "metadata": {},
   "outputs": [],
   "source": []
  },
  {
   "cell_type": "code",
   "execution_count": null,
   "metadata": {},
   "outputs": [],
   "source": []
  },
  {
   "cell_type": "code",
   "execution_count": null,
   "metadata": {},
   "outputs": [],
   "source": []
  },
  {
   "cell_type": "code",
   "execution_count": null,
   "metadata": {},
   "outputs": [],
   "source": []
  },
  {
   "cell_type": "code",
   "execution_count": null,
   "metadata": {},
   "outputs": [],
   "source": []
  },
  {
   "cell_type": "code",
   "execution_count": null,
   "metadata": {},
   "outputs": [],
   "source": []
  },
  {
   "cell_type": "code",
   "execution_count": null,
   "metadata": {},
   "outputs": [],
   "source": []
  },
  {
   "cell_type": "code",
   "execution_count": null,
   "metadata": {},
   "outputs": [],
   "source": []
  },
  {
   "cell_type": "code",
   "execution_count": null,
   "metadata": {},
   "outputs": [],
   "source": []
  },
  {
   "cell_type": "code",
   "execution_count": null,
   "metadata": {},
   "outputs": [],
   "source": []
  },
  {
   "cell_type": "code",
   "execution_count": null,
   "metadata": {},
   "outputs": [],
   "source": []
  },
  {
   "cell_type": "code",
   "execution_count": null,
   "metadata": {},
   "outputs": [],
   "source": []
  },
  {
   "cell_type": "code",
   "execution_count": null,
   "metadata": {},
   "outputs": [],
   "source": []
  },
  {
   "cell_type": "code",
   "execution_count": null,
   "metadata": {},
   "outputs": [],
   "source": []
  },
  {
   "cell_type": "code",
   "execution_count": null,
   "metadata": {},
   "outputs": [],
   "source": []
  },
  {
   "cell_type": "code",
   "execution_count": null,
   "metadata": {},
   "outputs": [],
   "source": []
  },
  {
   "cell_type": "code",
   "execution_count": null,
   "metadata": {},
   "outputs": [],
   "source": []
  },
  {
   "cell_type": "code",
   "execution_count": null,
   "metadata": {},
   "outputs": [],
   "source": []
  }
 ],
 "metadata": {
  "kernelspec": {
   "display_name": "base",
   "language": "python",
   "name": "python3"
  },
  "language_info": {
   "codemirror_mode": {
    "name": "ipython",
    "version": 3
   },
   "file_extension": ".py",
   "mimetype": "text/x-python",
   "name": "python",
   "nbconvert_exporter": "python",
   "pygments_lexer": "ipython3",
   "version": "3.12.7"
  }
 },
 "nbformat": 4,
 "nbformat_minor": 5
}
