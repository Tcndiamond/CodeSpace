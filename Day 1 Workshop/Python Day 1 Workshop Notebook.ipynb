{
 "cells": [
  {
   "cell_type": "markdown",
   "id": "549885ee",
   "metadata": {},
   "source": [
    "Printing Your First Line Of Code"
   ]
  },
  {
   "cell_type": "code",
   "execution_count": 35,
   "id": "2ec79a40",
   "metadata": {},
   "outputs": [
    {
     "name": "stdout",
     "output_type": "stream",
     "text": [
      "Hello World!\n"
     ]
    }
   ],
   "source": [
    "print(\"Hello World!\")"
   ]
  },
  {
   "cell_type": "markdown",
   "id": "c731120b",
   "metadata": {},
   "source": [
    "Data Types and Variables"
   ]
  },
  {
   "cell_type": "code",
   "execution_count": 36,
   "id": "4b978518",
   "metadata": {},
   "outputs": [],
   "source": [
    "#Integers\n",
    "number = 1\n",
    "number = -1\n",
    "\n",
    "# Strings\n",
    "name = '1'\n",
    "name = \"1\"\n",
    "\n",
    "# Boolean\n",
    "bool = True\n",
    "bool = False\n",
    "\n",
    "# Float\n",
    "price = 15.0\n",
    "price = -15.0"
   ]
  },
  {
   "cell_type": "markdown",
   "id": "fe0df46e",
   "metadata": {},
   "source": [
    "Comments"
   ]
  },
  {
   "cell_type": "code",
   "execution_count": 37,
   "id": "d479cdd2",
   "metadata": {},
   "outputs": [
    {
     "data": {
      "text/plain": [
       "'\\nThis is a multi-line comment\\n'"
      ]
     },
     "execution_count": 37,
     "metadata": {},
     "output_type": "execute_result"
    }
   ],
   "source": [
    "#Single line comments - '#' symbol\n",
    "\n",
    "#Multi-line comments - ''' or \"\"\" symbols\n",
    "'''\n",
    "This is a mutiiline comment\n",
    "'''\n",
    "\n",
    "#or\n",
    "\n",
    "\"\"\"\n",
    "This is a multi-line comment\n",
    "\"\"\""
   ]
  },
  {
   "cell_type": "markdown",
   "id": "043a258f",
   "metadata": {},
   "source": [
    "Printing The Variables"
   ]
  },
  {
   "cell_type": "code",
   "execution_count": null,
   "id": "29d4675f",
   "metadata": {},
   "outputs": [
    {
     "name": "stdout",
     "output_type": "stream",
     "text": [
      "1\n",
      "Conquerant\n",
      "False\n",
      "1.0\n"
     ]
    }
   ],
   "source": [
    "number = 1\n",
    "name = 'Name'\n",
    "bool = False\n",
    "decimal= 1.0\n",
    "\n",
    "#Printing variables\n",
    "print(number)\n",
    "print(name)\n",
    "print(bool)\n",
    "print(decimal)"
   ]
  },
  {
   "cell_type": "markdown",
   "id": "6262f8ff",
   "metadata": {},
   "source": [
    "Type Casting/Conversion: Converting One Data Type To Another"
   ]
  },
  {
   "cell_type": "code",
   "execution_count": 39,
   "id": "186a9eab",
   "metadata": {},
   "outputs": [
    {
     "name": "stdout",
     "output_type": "stream",
     "text": [
      "1\n",
      "1\n",
      "365\n",
      "------------------------------\n",
      "3.0\n",
      "3.5\n",
      "3.5\n",
      "------------------------------\n",
      "3\n",
      "3.5\n",
      "3\n",
      "------------------------------\n"
     ]
    }
   ],
   "source": [
    "#Types of Casting\n",
    "int()\n",
    "float()\n",
    "str()\n",
    "\n",
    "\n",
    "#Converting To Integer\n",
    "x = int(1)\n",
    "y = int(1.5)\n",
    "z = int(\"365\")\n",
    "\n",
    "print(x)\n",
    "print(y)\n",
    "print(z)\n",
    "print(\"------------------------------\")\n",
    "\n",
    "#Converting To Float\n",
    "x = float(3)\n",
    "y = float(3.5)\n",
    "z = float(\"3.5\")\n",
    "\n",
    "print(x)\n",
    "print(y)\n",
    "print(z)\n",
    "print(\"------------------------------\")\n",
    "\n",
    "#Converting To String\n",
    "x = str(3)\n",
    "y = str(3.5)\n",
    "z = str(\"3\")\n",
    "\n",
    "print(x)\n",
    "print(y)\n",
    "print(z)\n",
    "print(\"------------------------------\")"
   ]
  },
  {
   "cell_type": "markdown",
   "id": "161001e7",
   "metadata": {},
   "source": [
    "String Methods"
   ]
  },
  {
   "cell_type": "code",
   "execution_count": 40,
   "id": "dd2bb5f6",
   "metadata": {},
   "outputs": [
    {
     "name": "stdout",
     "output_type": "stream",
     "text": [
      "HELLO WORLD!\n",
      "hello world!\n",
      "Hello World!\n",
      "o Wor\n",
      "zo World!\n"
     ]
    }
   ],
   "source": [
    "text = \"Hello World!\"\n",
    "\n",
    "#Upper String Method\n",
    "print(text.upper())\n",
    "\n",
    "#lower String Method\n",
    "print(text.lower())\n",
    "\n",
    "#remove whitespace String Method\n",
    "print(text.strip())\n",
    "\n",
    "#String SLice\n",
    "print(text[4:9])\n",
    "\n",
    "#replacing strings\n",
    "print(text.replace(\"Hell\", \"z\"))"
   ]
  },
  {
   "cell_type": "markdown",
   "id": "63062690",
   "metadata": {},
   "source": [
    "Adding Strings Together and Formating"
   ]
  },
  {
   "cell_type": "code",
   "execution_count": null,
   "metadata": {},
   "outputs": [
    {
     "name": "stdout",
     "output_type": "stream",
     "text": [
      "My name is Conquerant, and my surname is Lembindi. I am turning 22 years old\n",
      "My name is Conquerant, and my surname is Lembindi. I am turning 22 years old\n"
     ]
    }
   ],
   "source": [
    "name = \"Name\"\n",
    "surname = \"Surname\"\n",
    "age = 22\n",
    "\n",
    "fullname1 = f'My name is {name}, and my surname is {surname}. I am turning {age} years old'\n",
    "fullname2 = 'My name is {}, and my surname is {}. I am turning {} years old'\n",
    "\n",
    "print(fullname1)\n",
    "print(fullname2.format(name, surname, age))"
   ]
  },
  {
   "cell_type": "markdown",
   "id": "814924a7",
   "metadata": {},
   "source": [
    "Input and Output of Code (I/O)"
   ]
  },
  {
   "cell_type": "code",
   "execution_count": 43,
   "metadata": {},
   "outputs": [
    {
     "name": "stdout",
     "output_type": "stream",
     "text": [
      "My name is Conquerant and I am 22 years old\n"
     ]
    }
   ],
   "source": [
    "name = input(\"Enter your name: \")\n",
    "age = int(input(\"Enter your age: \"))\n",
    "\n",
    "print(f'My name is {name} and I am {age} years old')\n"
   ]
  },
  {
   "cell_type": "markdown",
   "id": "6c9a418d",
   "metadata": {},
   "source": [
    "Mathematics"
   ]
  },
  {
   "cell_type": "code",
   "execution_count": null,
   "metadata": {},
   "outputs": [
    {
     "name": "stdout",
     "output_type": "stream",
     "text": [
      "3 + 10 = 13\n",
      "10 - 3 = 7\n",
      "3 - 10 = -7\n",
      "3 * 10 = 30\n",
      "10 / 3 = 3.3333333333333335\n",
      "10 % 3 = 1\n",
      "3 ** 10 = 1000\n",
      "10 // 3 = 3\n"
     ]
    }
   ],
   "source": [
    "x = 3\n",
    "y = 10\n",
    "\n",
    "#Addition\n",
    "answer = x + y\n",
    "print(f'{x} + {y} = {answer}')\n",
    "\n",
    "#Positive Subtraction\n",
    "answer = y - x\n",
    "print(f'{y} - {x} = {answer}')\n",
    "\n",
    "#Negative Subtraction\n",
    "answer = x - y\n",
    "print(f'{x} - {y} = {answer}')\n",
    "\n",
    "#Multiplication\n",
    "answer = x * y\n",
    "print(f'{x} * {y} = {answer}')\n",
    "\n",
    "#Division\n",
    "answer = y / x\n",
    "print(f'{y} / {x} = {answer}')\n",
    "\n",
    "#Modulus\n",
    "answer = y % x\n",
    "print(f'{y} % {x} = {answer}')\n",
    "\n",
    "#Exponentiation\n",
    "answer = y ** x\n",
    "print(f'{x} ** {y} = {answer}')\n",
    "\n",
    "#floor division\n",
    "answer = y // x\n",
    "print(f'{y} // {x} = {answer}')\n"
   ]
  },
  {
   "cell_type": "markdown",
   "id": "312883b9",
   "metadata": {},
   "source": [
    "### Conditions: If, Elif, Else, and Match  \n",
    "---\n",
    "'=='   = Equals Too,  \n",
    "'!='   = Not Equals Too,  \n",
    "'>'    = Greater Than,  \n",
    "'<'    = Less Than,  \n",
    "'>='   = Greater Than Or Equals Too,  \n",
    "'<='   = Less Than Or Equals Too  |"
   ]
  },
  {
   "cell_type": "markdown",
   "id": "dc29df96",
   "metadata": {},
   "source": [
    "#### Example 1"
   ]
  },
  {
   "cell_type": "code",
   "execution_count": 14,
   "id": "c39c16e9",
   "metadata": {},
   "outputs": [
    {
     "name": "stdout",
     "output_type": "stream",
     "text": [
      "You have passed, with the mark of 45. But you need to do supps\n"
     ]
    }
   ],
   "source": [
    "Mark = int(input(\"Enter your mark: \"))\n",
    "\n",
    "#This is the starting condition\n",
    "if Mark >= 75:\n",
    "    print(f\"You have passed with a distinction, with the mark of {Mark}\")\n",
    "\n",
    "#This are additional conditions if the starting condition is not met\n",
    "elif Mark >= 50:\n",
    "    print(f\"You have passed, with the mark of {Mark}\")\n",
    "\n",
    "elif Mark >= 40:\n",
    "    print(f\"You have passed, with the mark of {Mark}. But you need to do supps\")\n",
    "\n",
    "#This is the final condition if all the above conditions are not met\n",
    "else:\n",
    "    print(f\"You have failed, with the mark of {Mark}\")"
   ]
  },
  {
   "cell_type": "markdown",
   "id": "9ae0955c",
   "metadata": {},
   "source": [
    "#### Example 2"
   ]
  },
  {
   "cell_type": "code",
   "execution_count": 16,
   "metadata": {},
   "outputs": [
    {
     "name": "stdout",
     "output_type": "stream",
     "text": [
      "You won the raffle!!\n"
     ]
    }
   ],
   "source": [
    "Raffle = int(input(\"Enter your raffle number: \"))\n",
    "\n",
    "if Raffle == 100:\n",
    "    print('You won the raffle!!')\n",
    "else:\n",
    "    print('You did not win the raffle!!')"
   ]
  },
  {
   "cell_type": "markdown",
   "id": "90808639",
   "metadata": {},
   "source": [
    "### Example 3"
   ]
  },
  {
   "cell_type": "code",
   "execution_count": null,
   "metadata": {},
   "outputs": [
    {
     "name": "stdout",
     "output_type": "stream",
     "text": [
      "We do not have that day\n"
     ]
    }
   ],
   "source": [
    "daysoftheweek = input(\"Enter the day of the week: \")\n",
    "\n",
    "match daysoftheweek:\n",
    "    case 'monday':\n",
    "        print(\"Enjoy your monday\")\n",
    "\n",
    "    case 'tuesday':\n",
    "        print(\"Enjoy your tuesday\")\n",
    "\n",
    "    case _:\n",
    "        print(\"We do not have that day\")"
   ]
  },
  {
   "cell_type": "markdown",
   "id": "2420428b",
   "metadata": {},
   "source": [
    "### Example 4: Nesting"
   ]
  },
  {
   "cell_type": "code",
   "execution_count": null,
   "id": "ce9e7e44",
   "metadata": {},
   "outputs": [],
   "source": [
    "name = \"Name\"\n",
    "age = 22\n",
    "\n",
    "if name == \"Name\":\n",
    "    if age >= 22:\n",
    "        print(f\"You are {name} and you are {age} years old\")"
   ]
  }
 ],
 "metadata": {
  "kernelspec": {
   "display_name": "base",
   "language": "python",
   "name": "python3"
  },
  "language_info": {
   "codemirror_mode": {
    "name": "ipython",
    "version": 3
   },
   "file_extension": ".py",
   "mimetype": "text/x-python",
   "name": "python",
   "nbconvert_exporter": "python",
   "pygments_lexer": "ipython3",
   "version": "3.12.7"
  }
 },
 "nbformat": 4,
 "nbformat_minor": 5
}
