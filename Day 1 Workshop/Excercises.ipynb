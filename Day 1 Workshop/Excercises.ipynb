{
 "cells": [
  {
   "cell_type": "markdown",
   "id": "49d65925",
   "metadata": {},
   "source": [
    "# Day 1 Excercises"
   ]
  },
  {
   "cell_type": "markdown",
   "id": "16abbf2d",
   "metadata": {},
   "source": [
    "#### 1. Age Calculator\n"
   ]
  },
  {
   "cell_type": "markdown",
   "id": "4750b1fb",
   "metadata": {},
   "source": [
    "<u>Description:</u>  \n",
    "The user enters their birth year, and the program calculates and displays their current age and what age they will be next year.  \n",
    "  \n",
    "<u>Skills Applied</u>:  \n",
    "User input, type conversion, math operations, and formatted output.  \n",
    "  \n",
    "<u>Example Output</u>:  \n",
    "Enter your birth year: 2003  \n",
    "You are 21 years old.  \n",
    "Next year, you will be 22.  \n"
   ]
  },
  {
   "cell_type": "markdown",
   "id": "b82ba7e5",
   "metadata": {},
   "source": [
    "---"
   ]
  },
  {
   "cell_type": "markdown",
   "id": "3b798570",
   "metadata": {},
   "source": [
    "### 2. Basic Bill Splitter"
   ]
  },
  {
   "cell_type": "markdown",
   "id": "d3e11a83",
   "metadata": {},
   "source": [
    "<u>Description:</u>  \n",
    "Takes the total amount of a bill and the number of people and calculates how much each person must pay.\n",
    "\n",
    "<u>Skills Applied:</u>  \n",
    "Float casting, division, string formatting, and input validation using `if` to check for zero or negative values.\n",
    "\n",
    "<u>Example Output:</u>  \n",
    "Enter total bill amount: 150.75  \n",
    "Enter number of people: 3  \n",
    "Each person should pay: R50.25"
   ]
  },
  {
   "cell_type": "markdown",
   "id": "78c540f8",
   "metadata": {},
   "source": [
    "---"
   ]
  },
  {
   "cell_type": "markdown",
   "metadata": {},
   "source": [
    "### 3. Simple Grade Evaluator"
   ]
  },
  {
   "cell_type": "markdown",
   "id": "0407d131",
   "metadata": {},
   "source": [
    "<u>Description:</u>  \n",
    "The user enters their test score, and the program returns a grade evaluation (Distinction, Pass, or Fail).\n",
    "\n",
    "<u>Skills Applied:</u>  \n",
    "Integer casting, `if-elif-else` control flow, and output formatting.\n",
    "\n",
    "<u>Example Output:</u>  \n",
    "Enter your test score: 88  \n",
    "Result: You passed with distinction!"
   ]
  },
  {
   "cell_type": "markdown",
   "id": "b5211851",
   "metadata": {},
   "source": [
    "---"
   ]
  },
  {
   "cell_type": "markdown",
   "metadata": {},
   "source": [
    "### 4. Temperature Converter"
   ]
  },
  {
   "cell_type": "markdown",
   "id": "1d24a1ef",
   "metadata": {},
   "source": [
    "<u>Description:</u>  \n",
    "Converts temperature from Celsius to Fahrenheit and displays it neatly formatted.  \n",
    "<u>Formula Used:</u> F = (C × 9/5) + 32\n",
    "\n",
    "<u>Skills Applied:</u>  \n",
    "Math, string formatting, type casting, and input handling.\n",
    "\n",
    "<u>Example Output:</u>  \n",
    "Enter temperature in Celsius: 20  \n",
    "20°C is equal to 68.0°F"
   ]
  },
  {
   "cell_type": "markdown",
   "id": "25dc3cb6",
   "metadata": {},
   "source": [
    "---"
   ]
  },
  {
   "cell_type": "markdown",
   "metadata": {},
   "source": [
    "### 5. Simple Login Simulator"
   ]
  },
  {
   "cell_type": "markdown",
   "id": "c2d4d5f5",
   "metadata": {},
   "source": [
    "<u>Description:</u>  \n",
    "Prompts the user for a username and password and checks it against hardcoded values. Displays success or error messages accordingly.\n",
    "\n",
    "<u>Skills Applied:</u>  \n",
    "String comparison, user input, conditional logic, and string methods (like `.strip()` or `.lower()` for bonus).\n",
    "\n",
    "<u>Example Output:</u>  \n",
    "Enter username: admin  \n",
    "Enter password: python123  \n",
    "Access granted!"
   ]
  },
  {
   "cell_type": "markdown",
   "id": "037d103a",
   "metadata": {},
   "source": [
    "---"
   ]
  },
  {
   "cell_type": "markdown",
   "id": "b30863dd",
   "metadata": {},
   "source": [
    "### 6. Student Info Formatter"
   ]
  },
  {
   "cell_type": "markdown",
   "id": "4be9c36d",
   "metadata": {},
   "source": [
    "<u>Description:</u>  \n",
    "The user is prompted to enter their name, age, course, and student number. The program then prints a neatly formatted student profile.\n",
    "\n",
    "<u>Skills Applied:</u>  \n",
    "Input handling, type conversion, string formatting (`f-string` and `.format()`), and data presentation.\n",
    "\n",
    "<u>Example Output:</u>  \n",
    "Enter your name: Zama  \n",
    "Enter your age: 20  \n",
    "Enter your course: Robotics  \n",
    "Enter your student number: 210056 \n",
    "\n",
    "--- Student Profile ---  \n",
    "Name: Zama  \n",
    "Age: 20  \n",
    "Course: Robotics  \n",
    "Student Number: 210056"
   ]
  },
  {
   "cell_type": "markdown",
   "id": "aeb43673",
   "metadata": {},
   "source": [
    "---"
   ]
  },
  {
   "cell_type": "markdown",
   "id": "03dd6a4a",
   "metadata": {},
   "source": [
    "### 7. Basic Unit Converter"
   ]
  },
  {
   "cell_type": "markdown",
   "metadata": {},
   "source": [
    "<u>Description:</u>  \n",
    "A menu-like system that lets users choose between converting kilometers to miles or kilograms to pounds and performs the correct conversion.  \n",
    "<u>Conversion Factors:</u>  \n",
    "1 km = 0.621371 miles  \n",
    "1 kg = 2.20462 pounds\n",
    "\n",
    "<u>Skills Applied:</u>  \n",
    "User input, math operations, `if-elif-else`, and string formatting.\n",
    "\n",
    "<u>Example Output:</u>  \n",
    "Choose conversion:  \n",
    "1. Kilometers to Miles  \n",
    "2. Kilograms to Pounds  \n",
    "Enter choice (1 or 2): 1  \n",
    "Enter value in km: 10  \n",
    "10.0 km = 6.21 miles"
   ]
  },
  {
   "cell_type": "markdown",
   "id": "1c8ac63d",
   "metadata": {},
   "source": [
    "---"
   ]
  },
  {
   "cell_type": "markdown",
   "id": "ba0e080a",
   "metadata": {},
   "source": [
    "### 8. Expense Categorizer"
   ]
  },
  {
   "cell_type": "markdown",
   "id": "9bea9488",
   "metadata": {},
   "source": [
    "<u>Description:</u>  \n",
    "The user inputs the description and amount of an expense. Based on the amount, the program categorizes it as \"Low,\" \"Moderate,\" or \"High.\"\n",
    "\n",
    "<u>Skills Applied:</u>  \n",
    "Float conversion, conditionals, string manipulation, and formatted print.\n",
    "\n",
    "<u>Example Output:</u>  \n",
    "Enter expense name: Groceries  \n",
    "Enter amount: 850  \n",
    "Category: Moderate Expense"
   ]
  },
  {
   "cell_type": "markdown",
   "id": "52d5d13e",
   "metadata": {},
   "source": [
    "---"
   ]
  },
  {
   "cell_type": "markdown",
   "id": "8e25c2b8",
   "metadata": {},
   "source": [
    "### 9. Username Generator"
   ]
  },
  {
   "cell_type": "markdown",
   "metadata": {},
   "source": [
    "<u>Description:</u>  \n",
    "Based on the user's first name and last name, generate a simple username suggestion using string slicing and manipulation.\n",
    "\n",
    "<u>Skills Applied:</u>  \n",
    "String indexing, `.lower()`, `.strip()`, and the `+` operator for strings.\n",
    "\n",
    "<u>Example Output:</u>  \n",
    "Enter first name: Blessing  \n",
    "Enter last name: Mokoena  \n",
    "Generated username: bless.moko"
   ]
  },
  {
   "cell_type": "markdown",
   "metadata": {},
   "source": [
    "### 10. Basic BMI Calculator"
   ]
  },
  {
   "cell_type": "markdown",
   "id": "19b2b5c1",
   "metadata": {},
   "source": [
    "<u>Description:</u>  \n",
    "Takes a user’s weight (kg) and height (m), calculates the Body Mass Index (BMI), and classifies it.  \n",
    "  \n",
    "<u>Formula:</u> BMI = weight / height²  \n",
    "<u>Classifications:</u>  \n",
    "Underweight: BMI < 18.5  \n",
    "Normal: 18.5 ≤ BMI < 25  \n",
    "Overweight: BMI ≥ 25\n",
    "\n",
    "<u>Skills Applied:</u>  \n",
    "Float conversion, math operations, conditionals, and formatted output.\n",
    "\n",
    "<u>Example Output:</u>  \n",
    "Enter your weight (kg): 70  \n",
    "Enter your height (m): 1.75  \n",
    "Your BMI is 22.86—normal weight."
   ]
  }
 ],
 "metadata": {
  "kernelspec": {
   "display_name": "base",
   "language": "python",
   "name": "python3"
  },
  "language_info": {
   "name": "python",
   "version": "3.12.7"
  }
 },
 "nbformat": 4,
 "nbformat_minor": 5
}
